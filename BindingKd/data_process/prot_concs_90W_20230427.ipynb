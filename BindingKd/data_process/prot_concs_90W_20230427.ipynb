{
 "cells": [
  {
   "cell_type": "code",
   "execution_count": 2,
   "metadata": {},
   "outputs": [
    {
     "name": "stdout",
     "output_type": "stream",
     "text": [
      "0 Wavelength [nm]\n",
      "1 TBS\n",
      "2 90W_2\n",
      "3 90W_4\n",
      "4 90W_6\n",
      "5 90W_8\n",
      "6 90W_10\n",
      "7 90W_12\n"
     ]
    }
   ],
   "source": [
    "import os\n",
    "import numpy as np\n",
    "import pandas as pd\n",
    "import matplotlib.pyplot as plt\n",
    "from sklearn.linear_model import LinearRegression\n",
    "\n",
    "workdir = '/mnt/f/My Drive/PARPi binder paper/Figures/Fig2_binding_kd/vel_nir_mef_Kd_UV/ProteinConc/'\n",
    "prots = pd.read_csv(workdir + '20230427_prot_conc_90W.csv')\n",
    "\n",
    "for i in range(len(prots.columns)):\n",
    "    print(str(i) + ' ' + prots.columns[i])"
   ]
  },
  {
   "cell_type": "code",
   "execution_count": 3,
   "metadata": {},
   "outputs": [],
   "source": [
    "def auto_zero(protdb):\n",
    "    for name in protdb.columns[1:]:\n",
    "        #print(protdb.columns)\n",
    "        x = protdb[name][310:410]  - protdb[protdb.columns[0]][310:410]\n",
    "        y = sum(x)/len(x)\n",
    "        protdb[name] = protdb[name] - y\n",
    "    return protdb\n",
    "\n",
    "\n",
    "def get_conc(prot, bfactor):\n",
    "    xs = [0, 2/400, 4/402, 6/404, 8/406, 10/408, 12/410]\n",
    "    xs_re = np.array(xs).reshape(-1, 1)\n",
    "\n",
    "\n",
    "    ys_280 = prot.iloc[280-190, :]\n",
    "    reg_280 = LinearRegression().fit(xs_re, ys_280)\n",
    "    print('R: {}'.format(reg_280.score(xs_re, ys_280)))\n",
    "    print('intercept_: {}'.format(reg_280.intercept_))\n",
    "\n",
    "    ys_280_corr = ys_280 - reg_280.intercept_\n",
    "    prot_conc = ys_280_corr/bfactor*1000*1000\n",
    "\n",
    "    factors = [400/2, 402/4, 404/6, 406/8, 408/10, 410/12]\n",
    "    prot_conc_stock = []\n",
    "\n",
    "    for i in range(6):\n",
    "        prot_conc_stock.append(prot_conc[i+1]*factors[i])\n",
    "\n",
    "    print(prot_conc_stock)\n",
    "    print(np.mean(prot_conc_stock[1:]))\n",
    "\n",
    "\n",
    "    fig,ax = plt.subplots()\n",
    "    ax.scatter(xs_re, ys_280)\n",
    "    ax.plot(xs_re, ys_280)\n",
    "    plt.xlim([0, 0.04])\n",
    "    plt.ylim([-0.05, 1.5])\n",
    "    return prot_conc_stock, np.mean(prot_conc_stock[1:])"
   ]
  },
  {
   "cell_type": "code",
   "execution_count": 4,
   "metadata": {},
   "outputs": [
    {
     "name": "stdout",
     "output_type": "stream",
     "text": [
      "Index(['TBS', '90W_2', '90W_4', '90W_6', '90W_8', '90W_10', '90W_12'], dtype='object')\n"
     ]
    },
    {
     "name": "stderr",
     "output_type": "stream",
     "text": [
      "/tmp/ipykernel_9839/135504908.py:6: SettingWithCopyWarning: \n",
      "A value is trying to be set on a copy of a slice from a DataFrame.\n",
      "Try using .loc[row_indexer,col_indexer] = value instead\n",
      "\n",
      "See the caveats in the documentation: https://pandas.pydata.org/pandas-docs/stable/user_guide/indexing.html#returning-a-view-versus-a-copy\n",
      "  protdb[name] = protdb[name] - y\n"
     ]
    }
   ],
   "source": [
    "\n",
    "prot_90W = prots[prots.columns[1:8]]\n",
    "print(prot_90W.columns)\n",
    "\n",
    "\n",
    "#print(prot599_HBST.iloc[280-190, 1])\n",
    "prot_90W = auto_zero(prot_90W)\n",
    "#print(prot599_HBST.iloc[280-190, 1])\n"
   ]
  },
  {
   "cell_type": "code",
   "execution_count": 5,
   "metadata": {},
   "outputs": [
    {
     "name": "stdout",
     "output_type": "stream",
     "text": [
      "R: 0.9997893766538398\n",
      "intercept_: 0.001310453899798114\n",
      "[1989.8051544737332, 2079.202461640937, 2092.651231354305, 2070.391162815325, 2046.4711179672752, 2053.429307981855]\n",
      "2068.42905635194\n"
     ]
    },
    {
     "data": {
      "image/png": "[encoded data removed]",
      "text/plain": [
       "<Figure size 640x480 with 1 Axes>"
      ]
     },
     "metadata": {},
     "output_type": "display_data"
    }
   ],
   "source": [
    "\n",
    "prot599_HBST_concs, prot599_HBST_conc = get_conc(prot_90W, bfactor=18450)\n"
   ]
  }
 ],
 "metadata": {
  "kernelspec": {
   "display_name": "env_conda",
   "language": "python",
   "name": "python3"
  },
  "language_info": {
   "codemirror_mode": {
    "name": "ipython",
    "version": 3
   },
   "file_extension": ".py",
   "mimetype": "text/x-python",
   "name": "python",
   "nbconvert_exporter": "python",
   "pygments_lexer": "ipython3",
   "version": "3.8.3"
  },
  "orig_nbformat": 4
 },
 "nbformat": 4,
 "nbformat_minor": 2
}
