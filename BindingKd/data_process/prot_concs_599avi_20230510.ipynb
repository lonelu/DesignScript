{
 "cells": [
  {
   "cell_type": "code",
   "execution_count": 1,
   "metadata": {},
   "outputs": [
    {
     "name": "stdout",
     "output_type": "stream",
     "text": [
      "0 Wavelength [nm]\n",
      "1 599avi_2\n",
      "2 599avi_4\n",
      "3 599avi_6\n",
      "4 599avi_8\n",
      "5 599avi_10\n",
      "6 599avi_12\n",
      "7 599avi_14\n"
     ]
    }
   ],
   "source": [
    "import os\n",
    "import numpy as np\n",
    "import pandas as pd\n",
    "import matplotlib.pyplot as plt\n",
    "from sklearn.linear_model import LinearRegression\n",
    "\n",
    "workdir = '/mnt/f/My Drive/PARPi binder paper/Figures/Fig_SPR/raw_data/'\n",
    "prots = pd.read_csv(workdir + '20230510_599AVI_CONC.csv')\n",
    "\n",
    "for i in range(len(prots.columns)):\n",
    "    print(str(i) + ' ' + prots.columns[i])"
   ]
  },
  {
   "cell_type": "code",
   "execution_count": 6,
   "metadata": {},
   "outputs": [],
   "source": [
    "def auto_zero(protdb):\n",
    "    for name in protdb.columns[1:]:\n",
    "        #print(protdb.columns)\n",
    "        x = protdb[name][310:410]  - protdb[protdb.columns[0]][310:410]\n",
    "        y = sum(x)/len(x)\n",
    "        protdb[name] = protdb[name] - y\n",
    "    return protdb\n",
    "\n",
    "\n",
    "def get_conc(prot, bfactor):\n",
    "    xs = [2/400, 4/402, 6/404, 8/406, 10/408, 12/410, 14/412]\n",
    "    xs_re = np.array(xs).reshape(-1, 1)\n",
    "\n",
    "\n",
    "    ys_280 = prot.iloc[280-190, :]\n",
    "    reg_280 = LinearRegression().fit(xs_re, ys_280)\n",
    "    print('R: {}'.format(reg_280.score(xs_re, ys_280)))\n",
    "    print('intercept_: {}'.format(reg_280.intercept_))\n",
    "\n",
    "    ys_280_corr = ys_280 - reg_280.intercept_\n",
    "    prot_conc = ys_280_corr/bfactor*1000*1000\n",
    "\n",
    "    factors = [400/2, 402/4, 404/6, 406/8, 408/10, 410/12, 14/412]\n",
    "    prot_conc_stock = []\n",
    "\n",
    "    for i in range(6):\n",
    "        prot_conc_stock.append(prot_conc[i]*factors[i])\n",
    "\n",
    "    print(prot_conc_stock)\n",
    "    print('Protein concentration: {} uM.'.format(np.mean(prot_conc_stock)))\n",
    "\n",
    "\n",
    "    fig,ax = plt.subplots()\n",
    "    ax.scatter(xs_re, ys_280)\n",
    "    ax.plot(xs_re, ys_280)\n",
    "    plt.xlim([0, 0.04])\n",
    "    plt.ylim([-0.05, 1.5])\n",
    "    return prot_conc_stock, np.mean(prot_conc_stock[1:])"
   ]
  },
  {
   "cell_type": "code",
   "execution_count": 7,
   "metadata": {},
   "outputs": [
    {
     "name": "stdout",
     "output_type": "stream",
     "text": [
      "Index(['599avi_2', '599avi_4', '599avi_6', '599avi_8', '599avi_10',\n",
      "       '599avi_12', '599avi_14'],\n",
      "      dtype='object')\n"
     ]
    },
    {
     "name": "stderr",
     "output_type": "stream",
     "text": [
      "/tmp/ipykernel_859/252859864.py:6: SettingWithCopyWarning: \n",
      "A value is trying to be set on a copy of a slice from a DataFrame.\n",
      "Try using .loc[row_indexer,col_indexer] = value instead\n",
      "\n",
      "See the caveats in the documentation: https://pandas.pydata.org/pandas-docs/stable/user_guide/indexing.html#returning-a-view-versus-a-copy\n",
      "  protdb[name] = protdb[name] - y\n"
     ]
    }
   ],
   "source": [
    "\n",
    "prot_90W = prots[prots.columns[1:8]]\n",
    "print(prot_90W.columns)\n",
    "\n",
    "\n",
    "#print(prot599_HBST.iloc[280-190, 1])\n",
    "prot_90W = auto_zero(prot_90W)\n",
    "#print(prot599_HBST.iloc[280-190, 1])\n"
   ]
  },
  {
   "cell_type": "code",
   "execution_count": 8,
   "metadata": {},
   "outputs": [
    {
     "name": "stdout",
     "output_type": "stream",
     "text": [
      "R: 0.9999571320395949\n",
      "intercept_: -0.00017412383260279052\n",
      "[1003.3437813832281, 999.6838334296251, 986.7867185294626, 993.3929561751811, 992.5033376551864, 992.6385061900052]\n",
      "994.7248555604482\n"
     ]
    },
    {
     "data": {
      "image/png": "[encoded data removed]",
      "text/plain": [
       "<Figure size 640x480 with 1 Axes>"
      ]
     },
     "metadata": {},
     "output_type": "display_data"
    }
   ],
   "source": [
    "\n",
    "prot599_HBST_concs, prot599_HBST_conc = get_conc(prot_90W, bfactor=18450)\n"
   ]
  }
 ],
 "metadata": {
  "kernelspec": {
   "display_name": "env_conda",
   "language": "python",
   "name": "python3"
  },
  "language_info": {
   "codemirror_mode": {
    "name": "ipython",
    "version": 3
   },
   "file_extension": ".py",
   "mimetype": "text/x-python",
   "name": "python",
   "nbconvert_exporter": "python",
   "pygments_lexer": "ipython3",
   "version": "3.8.3"
  },
  "orig_nbformat": 4
 },
 "nbformat": 4,
 "nbformat_minor": 2
}
