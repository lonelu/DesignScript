{
 "cells": [
  {
   "cell_type": "code",
   "execution_count": 59,
   "metadata": {},
   "outputs": [
    {
     "name": "stdout",
     "output_type": "stream",
     "text": [
      "prot5uM   -0.001910\n",
      "nir_1      0.014908\n",
      "nir_2      0.032398\n",
      "nir_3      0.050947\n",
      "nir_4      0.067746\n",
      "nir_5      0.083172\n",
      "nir_6      0.098735\n",
      "nir_7      0.114595\n",
      "nir_8      0.130553\n",
      "nir_9      0.143727\n",
      "nir_10     0.157827\n",
      "nir_12     0.186520\n",
      "nir_14     0.213518\n",
      "nir_16     0.242535\n",
      "nir_18     0.270631\n",
      "nir_20     0.296287\n",
      "nir_24     0.349672\n",
      "nir_28     0.403635\n",
      "nir_32     0.459097\n",
      "nir_40     0.564874\n",
      "Name: 117, dtype: float64\n",
      "prot_10uM    0.001883\n",
      "nir_1        0.037876\n",
      "nir_2        0.072934\n",
      "nir_3        0.108542\n",
      "nir_4        0.143505\n",
      "nir_5        0.177361\n",
      "nir_6        0.210222\n",
      "nir_7        0.241338\n",
      "nir_8        0.272515\n",
      "nir_9        0.303843\n",
      "nir_10       0.334183\n",
      "nir_12       0.392295\n",
      "nir_14       0.450591\n",
      "nir_16       0.506638\n",
      "nir_18       0.566182\n",
      "nir_20       0.622615\n",
      "nir_22       0.681602\n",
      "nir_24       0.738405\n",
      "Name: 127, dtype: float64\n"
     ]
    }
   ],
   "source": [
    "import pandas as pd\n",
    "import matplotlib.pyplot as plt\n",
    "import numpy as np\n",
    "\n",
    "from scipy.optimize import least_squares, curve_fit\n",
    "\n",
    "%matplotlib inline\n",
    "\n",
    "workdir = '/mnt/f/My Drive/PARPi binder paper/Figures/Fig2_binding_kd/vel_nir_mef_Kd_UV/vel_nir_mef_Kd_UV_raw_data/'\n",
    "\n",
    "data = pd.read_csv(workdir + '20230512_nir_titri1.csv')\n",
    "for name in data.columns[2:]:\n",
    "    x = data[name][510:610]  - data[data.columns[1]][510:610]\n",
    "    y = sum(x)/len(x)\n",
    "    data[name] = data[name] - y\n",
    "abs_2uM = data.iloc[317-190, 2:]\n",
    "#print(abs_2uM)\n",
    "\n",
    "data = pd.read_csv(workdir + '20230515_nir5uM_titri.csv')\n",
    "for name in data.columns[2:]:\n",
    "    x = data[name][250:280]  - data[data.columns[1]][250:280]\n",
    "    y = sum(x)/len(x)\n",
    "    data[name] = data[name] - y\n",
    "abs_5uM = data.iloc[317-200, 2:]\n",
    "print(abs_5uM)\n",
    "\n",
    "data = pd.read_csv(workdir + '20230512_nir_titri3.csv')\n",
    "for name in data.columns[2:]:\n",
    "    x = data[name][510:610]  - data[data.columns[1]][510:610]\n",
    "    y = sum(x)/len(x)\n",
    "    data[name] = data[name] - y\n",
    "abs_10uM = data.iloc[317-190, 2:]\n",
    "print(abs_10uM)"
   ]
  },
  {
   "cell_type": "code",
   "execution_count": 60,
   "metadata": {},
   "outputs": [],
   "source": [
    "\n",
    "\n",
    "def pl_stoich(Pt, Lt, Kd, n):\n",
    "    return 1/2*(Kd + Lt + Pt/n - np.sqrt((Kd + Lt + Pt/n)**2 - 4*Lt*Pt/n))\n"
   ]
  },
  {
   "cell_type": "code",
   "execution_count": 61,
   "metadata": {},
   "outputs": [],
   "source": [
    "adds_2uM = [0, 1, 2, 3, 4, 5, 6, 7, 8, 9, 10, 12, 14, 16, 18, 20, 22, 24]\n",
    "conc_2uM = [x*600/(2000+x) for x in adds_2uM]\n",
    "prot_conc_2uM = [8*500/(2000+x) for x in adds_2uM]\n",
    "\n",
    "\n",
    "adds_5uM = [0, 1, 2, 3, 4, 5, 6, 7, 8, 9, 10, 12, 14, 16, 18, 20, 24, 28, 32, 40]\n",
    "conc_5uM = [x*1500/(2000+x) for x in adds_5uM]\n",
    "prot_conc_5uM = [20*500/(2000+x) for x in adds_5uM]\n",
    "\n",
    "adds_10uM = [0, 1, 2, 3, 4, 5, 6, 7, 8, 9, 10, 12, 14, 16, 18, 20, 22, 24]\n",
    "conc_10uM = [x*3000/(2000+x) for x in adds_10uM]\n",
    "prot_conc_10uM = [40*500/(2000+x) for x in adds_10uM]"
   ]
  },
  {
   "cell_type": "code",
   "execution_count": 62,
   "metadata": {},
   "outputs": [],
   "source": [
    "def res_float_nir(x):\n",
    "    rs = []\n",
    "    rs.extend(abs_2uM[i] - abs_2uM[0] - x[3]*conc_2uM[i] - x[0]*pl_stoich(2*2000/(2000+ adds_2uM[i]), conc_2uM[i], x[1], x[2]) for i in range(len(conc_2uM)) )\n",
    "    rs.extend(abs_5uM[i] - abs_5uM[0] - x[4]*conc_5uM[i] - x[0]*pl_stoich(5*2000/(2000+ adds_5uM[i]), conc_5uM[i], x[1], x[2]) for i in range(len(conc_5uM)) )\n",
    "    rs.extend(abs_10uM[i] - abs_10uM[0] - x[5]*conc_10uM[i] - x[0]*pl_stoich(10*2000/(2000+ adds_10uM[i]), conc_10uM[i], x[1], x[2]) for i in range(len(conc_10uM)) )\n",
    "    return rs\n"
   ]
  },
  {
   "cell_type": "code",
   "execution_count": 63,
   "metadata": {},
   "outputs": [
    {
     "name": "stdout",
     "output_type": "stream",
     "text": [
      "Fit of full data from Science paper:\n",
      "delta Epsilon of Apx @ 305 nm (M^-1 cm^-1)= 0.004392998270239789 \n",
      "Kd (uM)= 0.25267070948990966 \n",
      "N(stoichiometry)= 0.9951160637275309 \n",
      "Epsilon of Apx @ 305 nm and c=5 uM (M^-1 cm^-1)= 0.01947811470984823 \n",
      "Epsilon of Apx @ 305 nm and c=10 uM (M^-1 cm^-1)= 0.018616954925414337 \n",
      "Epsilon of Apx @ 305 nm and c=20uM (M^-1 cm^-1)= 0.01945295778360365\n",
      "[0.004393   0.25267071 0.99511606 0.01947811 0.01861695 0.01945296]\n",
      "[1.96977333e-01 9.93648555e+01 3.02008682e+01 7.17776342e-02\n",
      " 4.03297482e-02 5.65276191e-02]\n",
      "[1.96977333e-01 9.93648555e+01 3.02008682e+01 7.17776342e-02\n",
      " 4.03297482e-02 5.65276191e-02]\n",
      "[2.12412011e-04 1.07150850e-01 3.25673368e-02 7.74019598e-05\n",
      " 4.34898918e-05 6.09569896e-05]\n"
     ]
    }
   ],
   "source": [
    "res_nir = least_squares(res_float_nir, np.array([.002, 1, 1, .007,.007,.007]), bounds=[(0.0001,.1,.5, .0001,.0001,.0001), (.01,50,3, .1,.1,.1)])\n",
    "\n",
    "x = res_nir.x  # fit parameters\n",
    "x_orig = x\n",
    "\n",
    "print('Fit of full data from Science paper:')\n",
    "print(\n",
    "      'delta Epsilon of Apx @ 305 nm (M^-1 cm^-1)=', x_orig[0],\n",
    "      '\\nKd (uM)=', x_orig[1],\n",
    "      '\\nN(stoichiometry)=', x_orig[2],\n",
    "      '\\nEpsilon of Apx @ 305 nm and c=5 uM (M^-1 cm^-1)=', x_orig[3],\n",
    "      '\\nEpsilon of Apx @ 305 nm and c=10 uM (M^-1 cm^-1)=', x_orig[4],\n",
    "      '\\nEpsilon of Apx @ 305 nm and c=20uM (M^-1 cm^-1)=', x_orig[5],\n",
    "      )\n",
    "\n",
    "#How to compute standard deviation errors.\n",
    "#https://stackoverflow.com/questions/42388139/how-to-compute-standard-deviation-errors-with-scipy-optimize-least-squares\n",
    "print(res_nir.x)\n",
    "\n",
    "J = res_nir.jac\n",
    "cov = np.linalg.inv(J.T.dot(J))\n",
    "var = np.sqrt(np.diagonal(cov))\n",
    "print(var)\n",
    "\n",
    "import scipy.linalg as linalg\n",
    "U, s, Vh = linalg.svd(res_nir.jac, full_matrices=False)\n",
    "tol = np.finfo(float).eps*s[0]*max(res_nir.jac.shape)\n",
    "w = s > tol\n",
    "cov = (Vh[w].T/s[w]**2) @ Vh[w]  # robust covariance matrix\n",
    "cov = linalg.inv(res_nir.jac.T @ res_nir.jac)  \n",
    "perr = np.sqrt(np.diag(cov))  \n",
    "print(perr)\n",
    "\n",
    "chi2dof = np.sum(res_nir.fun**2)/(res_nir.fun.size - res_nir.x.size)\n",
    "cov *= chi2dof\n",
    "perr = np.sqrt(np.diag(cov)) \n",
    "print(perr)"
   ]
  },
  {
   "cell_type": "code",
   "execution_count": 67,
   "metadata": {},
   "outputs": [
    {
     "data": {
      "text/plain": [
       "([<matplotlib.axis.XTick at 0x7fec9e914760>,\n",
       "  <matplotlib.axis.XTick at 0x7fec9e914730>,\n",
       "  <matplotlib.axis.XTick at 0x7fec9e913460>,\n",
       "  <matplotlib.axis.XTick at 0x7fec9e8beca0>,\n",
       "  <matplotlib.axis.XTick at 0x7fec9e8c71f0>],\n",
       " <a list of 5 Text major ticklabel objects>)"
      ]
     },
     "execution_count": 67,
     "metadata": {},
     "output_type": "execute_result"
    },
    {
     "data": {
      "image/png": "[encoded data removed]",
      "text/plain": [
       "<Figure size 640x480 with 1 Axes>"
      ]
     },
     "metadata": {},
     "output_type": "display_data"
    }
   ],
   "source": [
    "dePL_2 = [abs_2uM[i] - abs_2uM[0] - x[3] * conc_2uM[i] for i in range(len(conc_2uM))]\n",
    "dePL_5 = [abs_5uM[i] - abs_5uM[0] - x[4] * conc_5uM[i] for i in range(len(conc_5uM))]\n",
    "#dePL_10 = [abs_10uM[i] - abs_10uM[0] - x[5] * conc_10uM[i] for i in range(len(conc_10uM))]\n",
    "\n",
    "plt.figure()\n",
    "plt.plot([600*add/(500*8) for add in adds_2uM], dePL_2, 'o', label='[ABLER]T = 2 uM', color='tab:green')\n",
    "plt.plot([1500*add/(500*20) for add in adds_5uM], dePL_5, 's', label='[ABLER]T = 5 uM', color='tab:orange')\n",
    "#plt.plot([3000*add/(500*40) for add in adds_10uM], dePL_10, 'X', label='[ABLER]T = 10 uM')\n",
    "\n",
    "fit_dePL_2 = [x[0] * pl_stoich(2, np.linspace(0,20,50)[i], x[1], x[2]) for i in range(50)]\n",
    "fit_dePL_5 = [x[0] * pl_stoich(5, np.linspace(0,40,50)[i], x[1], x[2]) for i in range(50)]\n",
    "#fit_dePL_10 = [x[0] * pl_stoich(10, np.linspace(0,80,50)[i], x[1], x[2]) for i in range(50)]\n",
    "\n",
    "plt.plot([c/2 for c in np.linspace(0,20,50)], fit_dePL_2, color='tab:green')\n",
    "plt.plot([c/5 for c in np.linspace(0,40,50)], fit_dePL_5, color='tab:orange')\n",
    "#plt.plot([c/10 for c in np.linspace(0,80,50)], fit_dePL_10, color='tab:blue')\n",
    "\n",
    "plt.xlabel('[NIR]T/[599]T')\n",
    "plt.ylabel('Delta Absorbance (deltaOD)')\n",
    "plt.title('dEps * [599 NIR] of 599 and niraparib')\n",
    "plt.xticks(list(range(5)))"
   ]
  }
 ],
 "metadata": {
  "kernelspec": {
   "display_name": "env_conda",
   "language": "python",
   "name": "python3"
  },
  "language_info": {
   "codemirror_mode": {
    "name": "ipython",
    "version": 3
   },
   "file_extension": ".py",
   "mimetype": "text/x-python",
   "name": "python",
   "nbconvert_exporter": "python",
   "pygments_lexer": "ipython3",
   "version": "3.8.3"
  },
  "orig_nbformat": 4
 },
 "nbformat": 4,
 "nbformat_minor": 2
}
