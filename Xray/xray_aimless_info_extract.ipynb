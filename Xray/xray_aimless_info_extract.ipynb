{
 "cells": [
  {
   "cell_type": "code",
   "execution_count": 16,
   "metadata": {},
   "outputs": [
    {
     "name": "stdout",
     "output_type": "stream",
     "text": [
      "DGL001_04_4 DGL001_04_4_3\n",
      "DGL001_08 DGL001_08_1\n",
      "DGL003_15 DGL003_15_1\n"
     ]
    }
   ],
   "source": [
    "import os\n",
    "\n",
    "workdir = '/mnt/e/06May2023/'\n",
    "\n",
    "infos = {}\n",
    "\n",
    "for x in os.listdir(workdir):\n",
    "    if not os.path.isdir(workdir + x):\n",
    "        continue\n",
    "    for folder in os.listdir(workdir + x):\n",
    "        info = {}\n",
    "        if not os.path.exists(workdir + x + '/' + folder + '/aimless.log'):\n",
    "            print(x + ' ' + folder)\n",
    "            continue\n",
    "        with open(workdir + x + '/' + folder + '/aimless.log', 'r') as f:\n",
    "            \n",
    "            for line in f.readlines():\n",
    "                if 'High resolution limit' in line:\n",
    "                    info[0] = line[-7:-1]\n",
    "                if 'Mn(I) half-set correlation CC(1/2)' in line:\n",
    "                    info[1] = line[-7:-1]\n",
    "                if 'Completeness' in line:\n",
    "                    info[2] = line[-7:-1]\n",
    "                if 'from half-dataset correlation CC(1/2) >  0.30:' in line:\n",
    "                    info[3] = line[-7:-1]     \n",
    "                if 'Space group' in line:\n",
    "                    info[4] =  line[-10:-1]  \n",
    "        infos[folder] = info\n",
    "\n",
    "with open(workdir + 'infos.tsv', 'w') as f:\n",
    "    f.write('File\\tRes\\tHalfset\\tComplete\\tHalfset>30\\tSpaceGroup\\n')\n",
    "    for key in infos.keys():\n",
    "        info = infos[key]\n",
    "        f.write(key + '\\t')\n",
    "        for k in range(5):\n",
    "            if not k in info.keys():\n",
    "                continue\n",
    "            f.write(info[k] + '\\t')\n",
    "        f.write('\\n')\n",
    "\n",
    "#print(infos)"
   ]
  }
 ],
 "metadata": {
  "kernelspec": {
   "display_name": "env_conda",
   "language": "python",
   "name": "python3"
  },
  "language_info": {
   "codemirror_mode": {
    "name": "ipython",
    "version": 3
   },
   "file_extension": ".py",
   "mimetype": "text/x-python",
   "name": "python",
   "nbconvert_exporter": "python",
   "pygments_lexer": "ipython3",
   "version": "3.8.3"
  },
  "orig_nbformat": 4
 },
 "nbformat": 4,
 "nbformat_minor": 2
}
